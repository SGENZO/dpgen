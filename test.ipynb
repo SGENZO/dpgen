{
 "cells": [
  {
   "cell_type": "code",
   "execution_count": 1,
   "metadata": {},
   "outputs": [],
   "source": [
    "import dpdata"
   ]
  },
  {
   "cell_type": "code",
   "execution_count": null,
   "metadata": {},
   "outputs": [],
   "source": [
    "d_poscar = dpdata.System(\"Pb.vasp\", fmt=\"vasp/poscar\")"
   ]
  },
  {
   "cell_type": "code",
   "execution_count": 26,
   "metadata": {},
   "outputs": [],
   "source": [
    "d_poscar.to(\"deepmd/npy\", \"Pb_npy\")"
   ]
  },
  {
   "cell_type": "code",
   "execution_count": 28,
   "metadata": {},
   "outputs": [],
   "source": [
    "perturbed_system = dpdata.System(\"Pb.vasp\", fmt=\"vasp/poscar\").perturb(\n",
    "    pert_num=3,\n",
    "    cell_pert_fraction=0.05,\n",
    "    atom_pert_distance=0.6,\n",
    "    atom_pert_style=\"normal\",\n",
    ")"
   ]
  },
  {
   "cell_type": "code",
   "execution_count": 37,
   "metadata": {},
   "outputs": [
    {
     "ename": "RuntimeError",
     "evalue": "not enough Pb atom, only 4 available, less than 8.Please check.",
     "output_type": "error",
     "traceback": [
      "\u001b[0;31m---------------------------------------------------------------------------\u001b[0m",
      "\u001b[0;31mRuntimeError\u001b[0m                              Traceback (most recent call last)",
      "Cell \u001b[0;32mIn[37], line 1\u001b[0m\n\u001b[0;32m----> 1\u001b[0m \u001b[43md_poscar\u001b[49m\u001b[38;5;241;43m.\u001b[39;49m\u001b[43mreplace\u001b[49m\u001b[43m(\u001b[49m\u001b[38;5;124;43m\"\u001b[39;49m\u001b[38;5;124;43mPb\u001b[39;49m\u001b[38;5;124;43m\"\u001b[39;49m\u001b[43m,\u001b[49m\u001b[43m \u001b[49m\u001b[38;5;124;43m\"\u001b[39;49m\u001b[38;5;124;43mZr\u001b[39;49m\u001b[38;5;124;43m\"\u001b[39;49m\u001b[43m,\u001b[49m\u001b[43m \u001b[49m\u001b[38;5;241;43m8\u001b[39;49m\u001b[43m)\u001b[49m\n",
      "File \u001b[0;32m/opt/homebrew/anaconda3/envs/dp/lib/python3.10/site-packages/dpdata/system.py:826\u001b[0m, in \u001b[0;36mSystem.replace\u001b[0;34m(self, initial_atom_type, end_atom_type, replace_num)\u001b[0m\n\u001b[1;32m    823\u001b[0m max_replace_num \u001b[38;5;241m=\u001b[39m \u001b[38;5;28mself\u001b[39m\u001b[38;5;241m.\u001b[39mdata[\u001b[38;5;124m\"\u001b[39m\u001b[38;5;124matom_numbs\u001b[39m\u001b[38;5;124m\"\u001b[39m][initial_atom_index]\n\u001b[1;32m    825\u001b[0m \u001b[38;5;28;01mif\u001b[39;00m replace_num \u001b[38;5;241m>\u001b[39m max_replace_num:\n\u001b[0;32m--> 826\u001b[0m     \u001b[38;5;28;01mraise\u001b[39;00m \u001b[38;5;167;01mRuntimeError\u001b[39;00m(\n\u001b[1;32m    827\u001b[0m         \u001b[38;5;124mf\u001b[39m\u001b[38;5;124m\"\u001b[39m\u001b[38;5;124mnot enough \u001b[39m\u001b[38;5;132;01m{\u001b[39;00minitial_atom_type\u001b[38;5;132;01m}\u001b[39;00m\u001b[38;5;124m atom, only \u001b[39m\u001b[38;5;132;01m{\u001b[39;00mmax_replace_num\u001b[38;5;132;01m}\u001b[39;00m\u001b[38;5;124m available, less than \u001b[39m\u001b[38;5;132;01m{\u001b[39;00mreplace_num\u001b[38;5;132;01m}\u001b[39;00m\u001b[38;5;124m.Please check.\u001b[39m\u001b[38;5;124m\"\u001b[39m\n\u001b[1;32m    828\u001b[0m     )\n\u001b[1;32m    830\u001b[0m may_replace_indices \u001b[38;5;241m=\u001b[39m [\n\u001b[1;32m    831\u001b[0m     i \u001b[38;5;28;01mfor\u001b[39;00m i, x \u001b[38;5;129;01min\u001b[39;00m \u001b[38;5;28menumerate\u001b[39m(\u001b[38;5;28mself\u001b[39m\u001b[38;5;241m.\u001b[39mdata[\u001b[38;5;124m\"\u001b[39m\u001b[38;5;124matom_types\u001b[39m\u001b[38;5;124m\"\u001b[39m]) \u001b[38;5;28;01mif\u001b[39;00m x \u001b[38;5;241m==\u001b[39m initial_atom_index\n\u001b[1;32m    832\u001b[0m ]\n\u001b[1;32m    833\u001b[0m to_replace_indices \u001b[38;5;241m=\u001b[39m np\u001b[38;5;241m.\u001b[39mrandom\u001b[38;5;241m.\u001b[39mchoice(\n\u001b[1;32m    834\u001b[0m     may_replace_indices, size\u001b[38;5;241m=\u001b[39mreplace_num, replace\u001b[38;5;241m=\u001b[39m\u001b[38;5;28;01mFalse\u001b[39;00m\n\u001b[1;32m    835\u001b[0m )\n",
      "\u001b[0;31mRuntimeError\u001b[0m: not enough Pb atom, only 4 available, less than 8.Please check."
     ]
    }
   ],
   "source": [
    "d_poscar.replace(\"Pb\", \"Zr\", 8)"
   ]
  },
  {
   "cell_type": "code",
   "execution_count": 36,
   "metadata": {},
   "outputs": [
    {
     "data": {
      "text/plain": [
       "{'atom_numbs': [np.int64(4), np.int64(4), 8],\n",
       " 'atom_names': ['Pb', 'Sn', 'Zr'],\n",
       " 'atom_types': array([0, 0, 0, 0, 1, 1, 1, 1, 2, 2, 2, 2, 2, 2, 2, 2]),\n",
       " 'orig': array([0., 0., 0.]),\n",
       " 'cells': array([[[ 6.29207365e+00,  2.08410026e-37,  2.40741243e-35],\n",
       "         [-2.86710249e-02,  6.28825696e+00,  0.00000000e+00],\n",
       "         [-1.83273938e-02, -8.11569187e-02,  8.90314992e+00]]]),\n",
       " 'coords': array([[[ 2.35520100e-03, -2.60536180e-03, -7.42311500e-04],\n",
       "         [ 1.57557900e+00,  4.66591278e+00,  6.69638044e+00],\n",
       "         [ 4.65879240e+00,  4.70800748e+00,  2.23554718e+00],\n",
       "         [ 3.14193092e+00,  3.10741309e+00,  4.45493379e+00],\n",
       "         [ 1.55786735e+00,  1.54346277e+00,  2.24500360e+00],\n",
       "         [-2.51585843e-02, -5.22473121e-02,  4.46260123e+00],\n",
       "         [-3.70615039e-02,  3.07384847e+00,  4.43515277e+00],\n",
       "         [ 4.67735581e+00,  4.67674928e+00,  6.68409009e+00],\n",
       "         [ 1.56255966e+00,  1.52146624e+00,  6.65714445e+00],\n",
       "         [-1.70472899e-02,  3.15702928e+00, -4.28160954e-02],\n",
       "         [ 1.54311070e+00,  4.69267154e+00,  2.24154808e+00],\n",
       "         [ 3.11574420e+00, -2.53300358e-02, -6.60171060e-03],\n",
       "         [ 4.71266386e+00,  1.54860731e+00,  2.24414975e+00],\n",
       "         [ 3.12290661e+00, -3.75372581e-02,  4.44636409e+00],\n",
       "         [ 4.69909195e+00,  1.51453018e+00,  6.69823547e+00],\n",
       "         [ 3.11201957e+00,  3.15000725e+00, -1.97260260e-02]]])}"
      ]
     },
     "execution_count": 36,
     "metadata": {},
     "output_type": "execute_result"
    }
   ],
   "source": [
    "d_poscar.data"
   ]
  },
  {
   "cell_type": "code",
   "execution_count": null,
   "metadata": {},
   "outputs": [],
   "source": []
  }
 ],
 "metadata": {
  "kernelspec": {
   "display_name": "dp",
   "language": "python",
   "name": "python3"
  },
  "language_info": {
   "codemirror_mode": {
    "name": "ipython",
    "version": 3
   },
   "file_extension": ".py",
   "mimetype": "text/x-python",
   "name": "python",
   "nbconvert_exporter": "python",
   "pygments_lexer": "ipython3",
   "version": "3.10.16"
  }
 },
 "nbformat": 4,
 "nbformat_minor": 2
}
